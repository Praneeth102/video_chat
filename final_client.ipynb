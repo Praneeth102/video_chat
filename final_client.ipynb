{
 "cells": [
  {
   "cell_type": "code",
   "execution_count": null,
   "id": "b8e76d43",
   "metadata": {},
   "outputs": [],
   "source": [
    "#this library helps in capturing and showing images\n",
    "import cv2"
   ]
  },
  {
   "cell_type": "code",
   "execution_count": null,
   "id": "17259bcd",
   "metadata": {},
   "outputs": [],
   "source": [
    "#this module helps in connecting and sending data to other \n",
    "import socket"
   ]
  },
  {
   "cell_type": "code",
   "execution_count": null,
   "id": "9a2de5c8",
   "metadata": {},
   "outputs": [],
   "source": [
    "#this library helps in creating time gap\n",
    "import time"
   ]
  },
  {
   "cell_type": "code",
   "execution_count": null,
   "id": "62bf73b4",
   "metadata": {},
   "outputs": [],
   "source": [
    "#this module helps in encoding and decoding data\n",
    "import base64\n",
    "import pickle"
   ]
  },
  {
   "cell_type": "code",
   "execution_count": null,
   "id": "209fbca0",
   "metadata": {},
   "outputs": [],
   "source": [
    "#this module helps in running two functions parallel\n",
    "import threading"
   ]
  },
  {
   "cell_type": "code",
   "execution_count": null,
   "id": "902bd1e3",
   "metadata": {},
   "outputs": [],
   "source": [
    "s=socket.socket()\n",
    "ip=\"192.168.31.80\"\n",
    "port=1485\n",
    "s.connect((ip,port))"
   ]
  },
  {
   "cell_type": "code",
   "execution_count": null,
   "id": "6d00d6b1",
   "metadata": {},
   "outputs": [],
   "source": [
    "#function to receive image\n",
    "def recvimage():\n",
    "    while True:\n",
    "        time.sleep(0.2)\n",
    "        try:\n",
    "            data=s.recv(10000000)\n",
    "            try:\n",
    "                ima=pickle.loads(data)\n",
    "                image=cv2.imecode(ima,cv2.IMREAD_COLOR)\n",
    "                print(\"1\")\n",
    "                if image is not None:\n",
    "                    print(image.shape)\n",
    "                    cv2.imshow('1st_per',image)\n",
    "                    if cv2.waitKey(100) == 13:\n",
    "                        break\n",
    "            \n",
    "            except:\n",
    "                pass\n",
    "        except:\n",
    "            pass\n",
    "    cv2.destroyAllWindows()\n",
    "    "
   ]
  },
  {
   "cell_type": "code",
   "execution_count": null,
   "id": "96173d1e",
   "metadata": {},
   "outputs": [],
   "source": [
    "def sendimage():\n",
    "    cap=cv2.VideoCapture(0)\n",
    "    while True:\n",
    "        time.sleep(0.2)\n",
    "        ret,pic=cap.read()\n",
    "        ret,buffer=cv2.imencode('.jpg',pic)\n",
    "        encodimage=pickle.dumps(buffer)\n",
    "        s.send(encodimage)"
   ]
  },
  {
   "cell_type": "code",
   "execution_count": null,
   "id": "6f538034",
   "metadata": {},
   "outputs": [],
   "source": [
    "recev=threading.Thread(target=recvimage)\n",
    "sendd=threading.Thread(target=sendimage)"
   ]
  },
  {
   "cell_type": "code",
   "execution_count": null,
   "id": "065c38be",
   "metadata": {},
   "outputs": [],
   "source": [
    "sendd.start()\n",
    "recev.start()"
   ]
  },
  {
   "cell_type": "code",
   "execution_count": null,
   "id": "e1cb2d50",
   "metadata": {},
   "outputs": [],
   "source": []
  },
  {
   "cell_type": "code",
   "execution_count": null,
   "id": "91aee362",
   "metadata": {},
   "outputs": [],
   "source": []
  },
  {
   "cell_type": "code",
   "execution_count": null,
   "id": "bbb7a1ad",
   "metadata": {},
   "outputs": [],
   "source": []
  },
  {
   "cell_type": "code",
   "execution_count": null,
   "id": "207b76ad",
   "metadata": {},
   "outputs": [],
   "source": []
  },
  {
   "cell_type": "code",
   "execution_count": null,
   "id": "0b20e0c8",
   "metadata": {},
   "outputs": [],
   "source": []
  },
  {
   "cell_type": "code",
   "execution_count": null,
   "id": "779f12a1",
   "metadata": {},
   "outputs": [],
   "source": []
  },
  {
   "cell_type": "code",
   "execution_count": null,
   "id": "ea96efe7",
   "metadata": {},
   "outputs": [],
   "source": []
  },
  {
   "cell_type": "code",
   "execution_count": null,
   "id": "15e2a8da",
   "metadata": {},
   "outputs": [],
   "source": []
  },
  {
   "cell_type": "code",
   "execution_count": null,
   "id": "d071d21e",
   "metadata": {},
   "outputs": [],
   "source": []
  },
  {
   "cell_type": "code",
   "execution_count": null,
   "id": "54fa5ddd",
   "metadata": {},
   "outputs": [],
   "source": []
  },
  {
   "cell_type": "code",
   "execution_count": null,
   "id": "0c83af69",
   "metadata": {},
   "outputs": [],
   "source": []
  },
  {
   "cell_type": "code",
   "execution_count": null,
   "id": "b35537fe",
   "metadata": {},
   "outputs": [],
   "source": []
  },
  {
   "cell_type": "code",
   "execution_count": null,
   "id": "1c34c92e",
   "metadata": {},
   "outputs": [],
   "source": []
  },
  {
   "cell_type": "code",
   "execution_count": null,
   "id": "005cac7d",
   "metadata": {},
   "outputs": [],
   "source": []
  },
  {
   "cell_type": "code",
   "execution_count": null,
   "id": "759accbe",
   "metadata": {},
   "outputs": [],
   "source": []
  },
  {
   "cell_type": "code",
   "execution_count": null,
   "id": "9ca28b90",
   "metadata": {},
   "outputs": [],
   "source": []
  },
  {
   "cell_type": "code",
   "execution_count": null,
   "id": "a999ad7b",
   "metadata": {},
   "outputs": [],
   "source": []
  }
 ],
 "metadata": {
  "kernelspec": {
   "display_name": "Python 3",
   "language": "python",
   "name": "python3"
  },
  "language_info": {
   "codemirror_mode": {
    "name": "ipython",
    "version": 3
   },
   "file_extension": ".py",
   "mimetype": "text/x-python",
   "name": "python",
   "nbconvert_exporter": "python",
   "pygments_lexer": "ipython3",
   "version": "3.8.8"
  }
 },
 "nbformat": 4,
 "nbformat_minor": 5
}
